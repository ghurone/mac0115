{
 "cells": [
  {
   "cell_type": "markdown",
   "metadata": {},
   "source": [
    "# Exercícios com Repetições Encaixadas"
   ]
  },
  {
   "cell_type": "markdown",
   "metadata": {},
   "source": [
    "## Exercício 1\n",
    "Dados $n$ e $n$ seqüências de números inteiros não-nulos, cada qual seguida por um $0$, calcular a soma dos números pares de cada seqüência. "
   ]
  },
  {
   "cell_type": "code",
   "execution_count": null,
   "metadata": {},
   "outputs": [],
   "source": [
    "def main():\n",
    "    n = int(input('Numero de seqûencias: '))\n",
    "\n",
    "    for i in range(1, n+1):\n",
    "        soma = 0\n",
    "        num = -1  # gambiarra, hehehe\n",
    "\n",
    "        while num != 0:\n",
    "            num = int(input('Digite um número, 0 para canelar: '))\n",
    "\n",
    "            if num % 2 == 0:\n",
    "                soma += num\n",
    "\n",
    "        print(f'A soma dos números pares da {i}ª sequencia é {soma}')\n",
    "\n",
    "\n",
    "main()"
   ]
  },
  {
   "cell_type": "markdown",
   "metadata": {},
   "source": [
    "## Exercício 2\n",
    "Dado um número inteiro positivo $n$, determinar todos os inteiros entre $1$ e $n$ que são comprimento da hipotenusa de um triângulo retângulo com catetos inteiros. "
   ]
  },
  {
   "cell_type": "code",
   "execution_count": null,
   "metadata": {},
   "outputs": [],
   "source": [
    "def main():\n",
    "    n = int(input('Digite um número: '))\n",
    "    total = 0\n",
    "\n",
    "    for hipotenusa in range(1, n+1):\n",
    "        for cateto_op in range(1, hipotenusa):\n",
    "            for cateto_ad in range(1, cateto_op):\n",
    "                if hipotenusa ** 2 == cateto_op ** 2 + cateto_ad**2:\n",
    "                    total += 1\n",
    "                    print(hipotenusa, cateto_op, cateto_ad)\n",
    "\n",
    "    print(f'{total} triângulos nesse intervalo')\n",
    "\n",
    "\n",
    "main()"
   ]
  },
  {
   "cell_type": "markdown",
   "metadata": {},
   "source": [
    "## Exercício 3\n",
    "Dados dois naturais $m$ e $n$ determinar, entre todos os pares de números naturais $(x,y)$ tais que $x \\leq m$ e $y \\leq n$, um par para o qual o valor da expressão $xy - x^2 + y$ seja máximo e calcular também esse máximo. "
   ]
  },
  {
   "cell_type": "code",
   "execution_count": null,
   "metadata": {},
   "outputs": [],
   "source": [
    "def main():\n",
    "    m = int(input('Digite um valor para o m: '))\n",
    "    n = int(input('Digite um valor para o n: '))\n",
    "\n",
    "    f_max = 0\n",
    "    x_max = 0\n",
    "    y_max = 0\n",
    "\n",
    "    for x in range(1, m+1):\n",
    "        for y in range(1, n+1):\n",
    "            if (x*y - x**2 + y) > f_max:\n",
    "                x_max = x\n",
    "                y_max = y\n",
    "                f_max = x*y - x**2 + y\n",
    "\n",
    "    print(f'({x_max},{y_max}) é o ponto de máximo no intervalo. F max = {f_max}')\n",
    "\n",
    "\n",
    "main()"
   ]
  },
  {
   "cell_type": "markdown",
   "metadata": {},
   "source": [
    "## Exercício 4\n",
    "Dados $n$ números inteiros positivos, calcular a soma dos que são primos. "
   ]
  },
  {
   "cell_type": "code",
   "execution_count": null,
   "metadata": {},
   "outputs": [],
   "source": [
    "def isprimo(n):\n",
    "    for cand in range(2, n):\n",
    "        if n % cand == 0:\n",
    "            return False\n",
    "\n",
    "    return True\n",
    "\n",
    "\n",
    "def main():\n",
    "    n = int(input('Quantos números deseja inserir? '))  # BASIC feelings\n",
    "    soma = 0\n",
    "\n",
    "    for i in range(1, n+1):\n",
    "        num = int(input(f'Digite o {i}º número: '))\n",
    "\n",
    "        if isprimo(num):\n",
    "            soma += num\n",
    "\n",
    "    print(f'A soma dos números primos da sua sequência é {soma}')\n",
    "\n",
    "\n",
    "main()"
   ]
  },
  {
   "cell_type": "markdown",
   "metadata": {},
   "source": [
    "## Exercício 5\n",
    "Sabe-se que um número da forma $n^3$ é igual a soma de $n$ ímpares consecutivos. \n",
    "\n",
    "\n",
    "* Exemplo $m = 4$: \n",
    "  * $1^3 = 1$ \n",
    "  * $2^3 = 3 + 5$\n",
    "  * $3^3= 7 + 9 + 11$\n",
    "  * $4^3= 13 + 15 + 17 + 19$\n",
    "\n",
    "Dado $m$, determine os ímpares consecutivos cuja soma é igual a $n^3$ para $n$ assumindo valores de $1$ a $m$. "
   ]
  },
  {
   "cell_type": "code",
   "execution_count": null,
   "metadata": {},
   "outputs": [],
   "source": [
    "def main():\n",
    "    m = int(input('Digite um valor para m: '))\n",
    "    init = 1\n",
    "\n",
    "    for i in range(1, m+1):\n",
    "        print(f'{i}**3 = {init}', end='')\n",
    "\n",
    "        for n in range(1, i):\n",
    "            print(f' + {init + 2 * n}', end='')\n",
    "\n",
    "        init += 2 * i\n",
    "\n",
    "        print('')\n",
    "\n",
    "\n",
    "main()"
   ]
  },
  {
   "cell_type": "markdown",
   "metadata": {},
   "source": [
    "## Exercício 6\n",
    "\n",
    "Dado um número inteiro positivo, determine a sua decomposição em fatores primos calculando também a multiplicidade de cada fator. "
   ]
  },
  {
   "cell_type": "code",
   "execution_count": null,
   "metadata": {},
   "outputs": [],
   "source": [
    "def is_primo(n):\n",
    "    for cand in range(2, n):\n",
    "        if n % cand == 0:\n",
    "            return False\n",
    "\n",
    "    return True\n",
    "\n",
    "\n",
    "def next_primo(x):\n",
    "    cand = x + 1\n",
    "    flag = False\n",
    "\n",
    "    while not flag:\n",
    "        if is_primo(cand):\n",
    "            flag = True\n",
    "        else:\n",
    "            cand = cand + 1\n",
    "\n",
    "    return cand\n",
    "\n",
    "\n",
    "def main():\n",
    "    n = int(input('Digite um número positivo: '))\n",
    "    fator = 2\n",
    "\n",
    "    while n > 1:\n",
    "        multi = 0\n",
    "\n",
    "        while n % fator == 0:\n",
    "            n = n / fator\n",
    "            multi = multi + 1\n",
    "\n",
    "        if multi > 0:\n",
    "            print(f'Fator: {fator} | Multiplicidade: {multi} ')\n",
    "\n",
    "        fator = next_primo(fator)\n",
    "\n",
    "\n",
    "main()"
   ]
  },
  {
   "cell_type": "markdown",
   "metadata": {},
   "source": [
    "## Exercício 7\n",
    "Dados um inteiro positivo $n$ e uma seqüência de $n$ inteiros positivos, determinar o máximo divisor comum a todos eles. "
   ]
  },
  {
   "cell_type": "code",
   "execution_count": null,
   "metadata": {},
   "outputs": [],
   "source": [
    "def main():\n",
    "    n = int(input('Digite o tamanho da sequência: '))\n",
    "    mdc = int(input('Digite o 1º número da sequência: '))\n",
    "    n_mdc = 0\n",
    "\n",
    "    i = 1\n",
    "    while i < n:\n",
    "        num = int(input(f'Digite o {i+1}º número da sequência: '))\n",
    "\n",
    "        i += 1\n",
    "        div = 1\n",
    "\n",
    "        while div <= mdc and div <= num:\n",
    "            if mdc % div == 0 and num % div == 0:\n",
    "                n_mdc = div\n",
    "\n",
    "            div += 1\n",
    "        mdc = n_mdc\n",
    "\n",
    "    print(f'MDC: {mdc}')\n",
    "\n",
    "\n",
    "main()"
   ]
  },
  {
   "cell_type": "markdown",
   "metadata": {},
   "source": [
    "## Exercício 8\n",
    "(POLI 97) Dizemos que uma sequência de inteiros positivos é $k$-**alternante** se for composta alternadamente por segmentos de números pares de tamanho $k$ e segmentos de números ímpares de tamanho $k$. \n",
    "\n",
    "\n",
    "* Exemplos:\n",
    "\n",
    "  *  A sequência   1 3 6 8 9 11 2 4 1 7 6 8 é 2-alternante.\n",
    "\n",
    "  *  A sequência   2 1 4 7 8 9 12 é 1-alternante.\n",
    "\n",
    "  *  A sequência   4 2 3 1 6 4 2 9 3 não é alternante.\n",
    "\n",
    "  *  A sequência   1 3 5 é 3-alternante\n",
    "\n",
    "Dado $n \\geq  1$ e uma sequência com $n$ inteiros, verificar se existe um inteiro $k \\geq  1$ tal que a sequência é $k$-**alternante**. Dê como saída também o valor de $k$ caso a sequência seja alternante.\n"
   ]
  },
  {
   "cell_type": "code",
   "execution_count": null,
   "metadata": {},
   "outputs": [],
   "source": [
    "# vai receber o prêmio de código mais feio do mundo\n",
    "def main():\n",
    "    n = int(input('Digite o tamanho da sequência: '))\n",
    "    num = int(input('Digite o 1º elemento da sequência: '))\n",
    "\n",
    "    paridade = num % 2  # indica se é par(0) ou ímpar(1)\n",
    "    k_tam = 1  # tamanho da corrente\n",
    "    k_alt = True  # partindo do absurdo que é k-lternante\n",
    "    k = 0  # inicializando o valor do k\n",
    "\n",
    "    for i in range(1, n+1):\n",
    "        if i == n:\n",
    "            if k == 0:\n",
    "                k = k_tam\n",
    "            elif k_tam != k:\n",
    "                k_alt = False\n",
    "        else:\n",
    "            num = int(input(f'Digite o {i + 1}º número da sequência: '))\n",
    "            if num % 2 == paridade:\n",
    "                k_tam += 1\n",
    "            else:\n",
    "                if k == 0:\n",
    "                    k = k_tam\n",
    "                elif k_tam != k:\n",
    "                    k_alt = False\n",
    "\n",
    "                k_tam = 1\n",
    "                paridade = (paridade + 1) % 2\n",
    "    if k_alt:\n",
    "        print(f'Essa sequência é {k}-alternante')\n",
    "    else:\n",
    "        print(f'Essa sequência não é k-alternante')\n",
    "\n",
    "\n",
    "main()"
   ]
  }
 ],
 "metadata": {
  "kernelspec": {
   "display_name": "Python 3",
   "language": "python",
   "name": "python3"
  },
  "language_info": {
   "codemirror_mode": {
    "name": "ipython",
    "version": 3
   },
   "file_extension": ".py",
   "mimetype": "text/x-python",
   "name": "python",
   "nbconvert_exporter": "python",
   "pygments_lexer": "ipython3",
   "version": "3.7.7"
  },
  "toc": {
   "base_numbering": 1,
   "nav_menu": {},
   "number_sections": true,
   "sideBar": true,
   "skip_h1_title": false,
   "title_cell": "Table of Contents",
   "title_sidebar": "Contents",
   "toc_cell": false,
   "toc_position": {},
   "toc_section_display": true,
   "toc_window_display": false
  }
 },
 "nbformat": 4,
 "nbformat_minor": 4
}
