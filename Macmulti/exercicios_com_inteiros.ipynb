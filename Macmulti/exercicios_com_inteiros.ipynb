{
 "cells": [
  {
   "cell_type": "markdown",
   "metadata": {},
   "source": [
    "# Exercícios com Inteiros\n"
   ]
  },
  {
   "cell_type": "markdown",
   "metadata": {},
   "source": [
    "## Exercício 1\n",
    "Dada uma seqüência de números inteiros não-nulos, seguida por $0$, imprimir seus quadrados."
   ]
  },
  {
   "cell_type": "code",
   "execution_count": null,
   "metadata": {},
   "outputs": [],
   "source": [
    "def main():\n",
    "    n = int(input('Digite um número inteiro, 0 para canelar: '))\n",
    "    soma = 0\n",
    "\n",
    "    while n != 0:\n",
    "        soma += n\n",
    "        n = int(input('Digite um número inteiro, 0 para canelar: '))\n",
    "\n",
    "    print(f'Soma: {soma}')\n",
    "\n",
    "\n",
    "main()"
   ]
  },
  {
   "cell_type": "markdown",
   "metadata": {},
   "source": [
    "## Exercício 2\n",
    "Dado um número inteiro positivo $n$, calcular a soma dos $n$ primeiros números inteiros positivos."
   ]
  },
  {
   "cell_type": "code",
   "execution_count": null,
   "metadata": {},
   "outputs": [],
   "source": [
    "def main():\n",
    "    \n",
    "    soma = 0\n",
    "    n = int(input('Digite um numero para calcular a soma dos n primeiros numeros inteiros: '))\n",
    "\n",
    "    for i in range(1, n + 1):\n",
    "        soma += i\n",
    "\n",
    "    print(f'a soma dos numeros de 0 ate {n} eh: {soma}')\n",
    "\n",
    "\n",
    "main()"
   ]
  },
  {
   "cell_type": "markdown",
   "metadata": {},
   "source": [
    "## Exercício 3\n",
    "Dado um número inteiro positivo $n$, imprimir os $n$ primeiros naturais ímpares.\n",
    "\n",
    "Exemplo: Para $n = 4$ a saída deverá ser $1, 3, 5, 7$."
   ]
  },
  {
   "cell_type": "code",
   "execution_count": null,
   "metadata": {},
   "outputs": [],
   "source": [
    "def main():\n",
    "\n",
    "    n = int(input('Digite a quantidade de numeros impares que serao impressos: '))\n",
    "\n",
    "    for i in range(0, n):\n",
    "        print(i*2 + 1)\n",
    "\n",
    "\n",
    "main()"
   ]
  },
  {
   "cell_type": "markdown",
   "metadata": {},
   "source": [
    "## Exercício 4\n",
    "Dados um inteiro $x$ e um inteiro não-negativo $n$, calcular $x^n$."
   ]
  },
  {
   "cell_type": "code",
   "execution_count": null,
   "metadata": {},
   "outputs": [],
   "source": [
    "# O jeito que provavelmente vão pedir para fazer\n",
    "def main():\n",
    "    \n",
    "    x = int(input('Digite um valor de x: '))\n",
    "    n = int(input('Digite um valor de n: '))\n",
    "    \n",
    "    prod = 1\n",
    "    \n",
    "    for i in range(n):\n",
    "        prod *= x\n",
    "    \n",
    "main()"
   ]
  },
  {
   "cell_type": "code",
   "execution_count": null,
   "metadata": {},
   "outputs": [],
   "source": [
    "# Outro jeito ex.4\n",
    "def main():\n",
    "    \n",
    "    x = int(input('Digite um valor de x: '))\n",
    "    n = int(input('Digite um valor de n: '))    \n",
    "    \n",
    "    print(f'{x} elevado a {n} é iguala {x**n}')  # o operador ** significa \"elevado\"\n",
    "    \n",
    "    \n",
    "main()    "
   ]
  },
  {
   "cell_type": "markdown",
   "metadata": {},
   "source": [
    "## Exercício 5\n",
    "Uma loja de discos anota diariamente durante o mês de março a quantidade de discos vendidos. Determinar em que dia desse mês ocorreu a maior venda e qual foi a quantidade de discos vendida nesse dia\n"
   ]
  },
  {
   "cell_type": "code",
   "execution_count": null,
   "metadata": {},
   "outputs": [],
   "source": [
    "def main():\n",
    "    \n",
    "    maior = 0\n",
    "    for i in range(1,32):\n",
    "        discos_vendidos = int(input(f'Digite a quantidade de discos vendidos no dia {i} de março: '))\n",
    "\n",
    "        if discos_vendidos > maior:\n",
    "            maior = discos_vendidos\n",
    "            dia_maior = i\n",
    "\n",
    "    print(f'A maior venda ocorreu no dia {dia_maior} e foi de {maior} discos vendidos')\n",
    "    \n",
    "    \n",
    "main()"
   ]
  },
  {
   "cell_type": "markdown",
   "metadata": {},
   "source": [
    "## Exercício 6\n",
    "Dados o número $n$ de alunos de uma turma de *Introdução aos Autômatos a Pilha (MAC 414)* e suas notas da primeira prova, determinar a maior e a menor nota obtidas por essa turma (Nota máxima = $100$ e nota mínima = $0$)."
   ]
  },
  {
   "cell_type": "code",
   "execution_count": null,
   "metadata": {},
   "outputs": [],
   "source": [
    "def main():\n",
    "\n",
    "    n = int(input('Digite o número de alunos: '))\n",
    "    menor, maior = 0, 0 \n",
    "    \n",
    "    for i in range(1, n+1):\n",
    "        nota = int(input(f'Insira a nota do {i}º aluno (0 - 100): '))\n",
    "    \n",
    "        if nota > maior:\n",
    "            maior = nota\n",
    "        \n",
    "        if nota < menor:\n",
    "            menor = nota\n",
    "            \n",
    "    print(f'A maior nota foi {maior} e a menor nota foi {menor}')\n",
    "            \n",
    "        \n",
    "main()"
   ]
  },
  {
   "cell_type": "markdown",
   "metadata": {},
   "source": [
    "## Exercício 7\n",
    "Dados $n$ e uma seqüência de $n$ números inteiros, determinar a soma dos números pares."
   ]
  },
  {
   "cell_type": "code",
   "execution_count": null,
   "metadata": {},
   "outputs": [],
   "source": [
    "def main():\n",
    "    \n",
    "    n = int(input('n: '))\n",
    "    soma = 0\n",
    "    \n",
    "    for i in range(1, n +1):\n",
    "        x  = i * 2\n",
    "        soma += x\n",
    "        \n",
    "    print(soma)\n",
    "    \n",
    "    \n",
    "main()"
   ]
  },
  {
   "cell_type": "markdown",
   "metadata": {},
   "source": [
    "## Exercício 8\n",
    "Dado um inteiro não-negativo $n$, determinar $n!$"
   ]
  },
  {
   "cell_type": "code",
   "execution_count": null,
   "metadata": {},
   "outputs": [],
   "source": [
    "# solução sem recursividade\n",
    "def main()\n",
    "\n",
    "    n = int(input('Digite um numero: '))\n",
    "    fact = 1\n",
    "\n",
    "    for i in range (1,n+1): \n",
    "        fact *= i\n",
    "    \n",
    "    print(f'O fatorial de {n} eh {fact}')\n",
    "\n",
    "    \n",
    "main()"
   ]
  },
  {
   "cell_type": "markdown",
   "metadata": {},
   "source": [
    "## Exercício 9\n",
    "Dados $n$ e dois números inteiros positivos $i$ e $j$ diferentes de $0$, imprimir em ordem crescente os $n$ primeiros naturais que são múltiplos de $i$ ou de $j$ e ou de ambos.\n",
    "\n",
    " Exemplo: Para $n = 6$ , $i = 2$ e $j = 3$ a saída deverá ser : $0, 2, 3, 4, 6, 8$."
   ]
  },
  {
   "cell_type": "code",
   "execution_count": null,
   "metadata": {},
   "outputs": [],
   "source": [
    "# kkk vou continuar"
   ]
  }
 ],
 "metadata": {
  "kernelspec": {
   "display_name": "Python 3",
   "language": "python",
   "name": "python3"
  },
  "language_info": {
   "codemirror_mode": {
    "name": "ipython",
    "version": 3
   },
   "file_extension": ".py",
   "mimetype": "text/x-python",
   "name": "python",
   "nbconvert_exporter": "python",
   "pygments_lexer": "ipython3",
   "version": "3.7.7"
  },
  "toc": {
   "base_numbering": 1,
   "nav_menu": {},
   "number_sections": true,
   "sideBar": true,
   "skip_h1_title": false,
   "title_cell": "Table of Contents",
   "title_sidebar": "Contents",
   "toc_cell": false,
   "toc_position": {},
   "toc_section_display": true,
   "toc_window_display": false
  }
 },
 "nbformat": 4,
 "nbformat_minor": 4
}
